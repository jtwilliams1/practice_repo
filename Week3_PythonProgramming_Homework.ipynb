{
  "nbformat": 4,
  "nbformat_minor": 0,
  "metadata": {
    "kernelspec": {
      "display_name": "Python 3",
      "language": "python",
      "name": "python3"
    },
    "language_info": {
      "codemirror_mode": {
        "name": "ipython",
        "version": 3
      },
      "file_extension": ".py",
      "mimetype": "text/x-python",
      "name": "python",
      "nbconvert_exporter": "python",
      "pygments_lexer": "ipython3",
      "version": "3.7.3"
    },
    "colab": {
      "name": "Week3_PythonProgramming_Homework.ipynb",
      "version": "0.3.2",
      "provenance": [],
      "collapsed_sections": []
    }
  },
  "cells": [
    {
      "cell_type": "markdown",
      "metadata": {
        "id": "BBVlogAA7ArD",
        "colab_type": "text"
      },
      "source": [
        "# Week3 Python Programming"
      ]
    },
    {
      "cell_type": "markdown",
      "metadata": {
        "id": "qCDNp7xr7ArI",
        "colab_type": "text"
      },
      "source": [
        "In week3, we've covered:\n",
        "* **Data structures**:\n",
        "    * List\n",
        "    * Tuples\n",
        "    * Dictionary\n",
        "* **Function**:\n",
        "    * Define function without parameter\n",
        "        * **def** func():\n",
        "    * Define function with parameter\n",
        "        * **def** func(param):\n",
        "* **Control flow**:\n",
        "    * if, elif, else\n",
        "    * for\n",
        "    * while"
      ]
    },
    {
      "cell_type": "markdown",
      "metadata": {
        "id": "tBRyXZEc7ArM",
        "colab_type": "text"
      },
      "source": [
        "The best way to consolidate the knowledge in your mind is by practicing.<br>Please complete the part marked with <span style=\"color:green\">**# TODO**</span>.\n",
        "\n",
        "[Google](www.google.com) and [Python Documentation](https://docs.python.org/3/contents.html) are your good friends if you have any python questions.\n",
        "\n",
        "Upload **Week3_PythonProgramming_Homework.ipynb** notebook to your Google Drive and open it with Google Colab"
      ]
    },
    {
      "cell_type": "markdown",
      "metadata": {
        "id": "gFBuKCRr7ArQ",
        "colab_type": "text"
      },
      "source": [
        "# List\n",
        "[List Documentation](https://www.w3schools.com/python/python_lists.asp)  "
      ]
    },
    {
      "cell_type": "markdown",
      "metadata": {
        "id": "BuJx8TuO7ArT",
        "colab_type": "text"
      },
      "source": [
        "### 1. Fill the ___ parts of code below"
      ]
    },
    {
      "cell_type": "code",
      "metadata": {
        "id": "BCcUcJgf7ArX",
        "colab_type": "code",
        "outputId": "bc81bbea-8790-4ef1-f2ae-91f2fccc2d66",
        "colab": {
          "base_uri": "https://localhost:8080/",
          "height": 34
        }
      },
      "source": [
        "# TODO\n",
        "# Let's create an empty list\n",
        "my_list = []\n",
        "\n",
        "# Let's add some values\n",
        "my_list.append('Python')\n",
        "my_list.append('is ok')\n",
        "my_list.append('sometimes')\n",
        "\n",
        "# Let's remove 'sometimes'\n",
        "my_list.remove('sometimes')\n",
        "\n",
        "# Let's change the second item\n",
        "my_list[1] = 'is neat'\n",
        "\n",
        "print(my_list)"
      ],
      "execution_count": 0,
      "outputs": [
        {
          "output_type": "stream",
          "text": [
            "['Python', 'is neat']\n"
          ],
          "name": "stdout"
        }
      ]
    },
    {
      "cell_type": "code",
      "metadata": {
        "id": "zcEnhIAu7Arl",
        "colab_type": "code",
        "colab": {}
      },
      "source": [
        "# Let's verify that it's correct\n",
        "assert my_list == ['Python', 'is neat']"
      ],
      "execution_count": 0,
      "outputs": []
    },
    {
      "cell_type": "markdown",
      "metadata": {
        "id": "c_-OzjNa7Ary",
        "colab_type": "text"
      },
      "source": [
        "### 2. Create a new list without modifiying the original one"
      ]
    },
    {
      "cell_type": "code",
      "metadata": {
        "id": "5PHOxWkI7Ar1",
        "colab_type": "code",
        "colab": {}
      },
      "source": [
        "original = ['I', 'am', 'learning', 'hacking', 'in']"
      ],
      "execution_count": 0,
      "outputs": []
    },
    {
      "cell_type": "code",
      "metadata": {
        "id": "nt6DUGNE7AsB",
        "colab_type": "code",
        "outputId": "e38c1240-6da2-44a0-afac-00331ef2cf89",
        "colab": {
          "base_uri": "https://localhost:8080/",
          "height": 51
        }
      },
      "source": [
        "# TODO\n",
        "modified = list(original)\n",
        "modified[3] = 'lists'\n",
        "modified.append('Python')\n",
        "print(original)\n",
        "print(modified)"
      ],
      "execution_count": 0,
      "outputs": [
        {
          "output_type": "stream",
          "text": [
            "['I', 'am', 'learning', 'hacking', 'in']\n",
            "['I', 'am', 'learning', 'lists', 'in', 'Python']\n"
          ],
          "name": "stdout"
        }
      ]
    },
    {
      "cell_type": "code",
      "metadata": {
        "id": "fgCVszdC7AsM",
        "colab_type": "code",
        "colab": {}
      },
      "source": [
        "assert original == ['I', 'am', 'learning', 'hacking', 'in']\n",
        "assert modified == ['I', 'am', 'learning', 'lists', 'in', 'Python']"
      ],
      "execution_count": 0,
      "outputs": []
    },
    {
      "cell_type": "markdown",
      "metadata": {
        "id": "y3p_xSN47AsY",
        "colab_type": "text"
      },
      "source": [
        "### 3. Create a merged sorted list"
      ]
    },
    {
      "cell_type": "code",
      "metadata": {
        "id": "PXcjoTw67Asb",
        "colab_type": "code",
        "colab": {}
      },
      "source": [
        "list1 = [6, 12, 5]\n",
        "list2 = [6.2, 0, 14, 1]\n",
        "list3 = [0.9]"
      ],
      "execution_count": 0,
      "outputs": []
    },
    {
      "cell_type": "code",
      "metadata": {
        "id": "WIumvKAQ7Asm",
        "colab_type": "code",
        "outputId": "9ffb9cc9-3f13-454f-b719-5b8c61ee2d50",
        "colab": {
          "base_uri": "https://localhost:8080/",
          "height": 34
        }
      },
      "source": [
        "# TODO\n",
        "my_list = list1 + list2 + list3\n",
        "my_list.sort(reverse=True)\n",
        "print(my_list)"
      ],
      "execution_count": 0,
      "outputs": [
        {
          "output_type": "stream",
          "text": [
            "[14, 12, 6.2, 6, 5, 1, 0.9, 0]\n"
          ],
          "name": "stdout"
        }
      ]
    },
    {
      "cell_type": "code",
      "metadata": {
        "id": "dEsAmRse7As2",
        "colab_type": "code",
        "outputId": "46683010-e3c6-4cef-fd00-96e17130443e",
        "colab": {
          "base_uri": "https://localhost:8080/",
          "height": 34
        }
      },
      "source": [
        "print(my_list)\n",
        "assert my_list == [14, 12, 6.2, 6, 5, 1, 0.9, 0]"
      ],
      "execution_count": 0,
      "outputs": [
        {
          "output_type": "stream",
          "text": [
            "[14, 12, 6.2, 6, 5, 1, 0.9, 0]\n"
          ],
          "name": "stdout"
        }
      ]
    },
    {
      "cell_type": "markdown",
      "metadata": {
        "id": "9fyL-3hD7AtF",
        "colab_type": "text"
      },
      "source": [
        "### 4. Loop through a list  \n",
        "[For Loops Documentation](https://www.w3schools.com/python/python_for_loops.asp)  \n",
        "[While Loops Documentation](https://www.w3schools.com/python/python_while_loops.asp)"
      ]
    },
    {
      "cell_type": "markdown",
      "metadata": {
        "id": "izrkgeAm7AtI",
        "colab_type": "text"
      },
      "source": [
        "Loop through a list and check:\n",
        "* If an item is a float, cast the float to int.\n",
        "* If an item is an int, cast the int to float\n",
        "* Hint: use isinstance()"
      ]
    },
    {
      "cell_type": "code",
      "metadata": {
        "id": "ezPrqNUE7AtN",
        "colab_type": "code",
        "outputId": "0d0489a1-4577-4a96-a534-d0a57f0c8c30",
        "colab": {
          "base_uri": "https://localhost:8080/",
          "height": 34
        }
      },
      "source": [
        "loop_list1 = [1101, 704.971, 'Fort Mill']\n",
        "# TODO \n",
        "# use for loop\n",
        "i = 0\n",
        "for x in loop_list1:\n",
        "  if isinstance(x, int) == True:\n",
        "    loop_list1[i] = float(x)\n",
        "  elif isinstance(x, float) == True:\n",
        "    loop_list1[i] = int(x)\n",
        "  i = i + 1\n",
        "print(loop_list1)\n",
        "  "
      ],
      "execution_count": 17,
      "outputs": [
        {
          "output_type": "stream",
          "text": [
            "[1101.0, 704, 'Fort Mill']\n"
          ],
          "name": "stdout"
        }
      ]
    },
    {
      "cell_type": "code",
      "metadata": {
        "id": "XiPTljuo7AtY",
        "colab_type": "code",
        "outputId": "7a01a1ac-b30b-4597-dd50-9edb6793bb1e",
        "colab": {
          "base_uri": "https://localhost:8080/",
          "height": 34
        }
      },
      "source": [
        "print(loop_list1)\n",
        "assert loop_list1 == [1101.0, 704, 'Fort Mill']"
      ],
      "execution_count": 18,
      "outputs": [
        {
          "output_type": "stream",
          "text": [
            "[1101.0, 704, 'Fort Mill']\n"
          ],
          "name": "stdout"
        }
      ]
    },
    {
      "cell_type": "code",
      "metadata": {
        "id": "xfIVUa4S7Atl",
        "colab_type": "code",
        "outputId": "807000b4-9f38-4695-91e2-9d6ddacdd2bb",
        "colab": {
          "base_uri": "https://localhost:8080/",
          "height": 34
        }
      },
      "source": [
        "loop_list2 = [1101, 704.971, 'Fort Mill']\n",
        "# TODO\n",
        "# use while loop\n",
        "i = 0\n",
        "  \n",
        "while i < len(loop_list2):\n",
        "  if isinstance(loop_list2[i], int) == True:\n",
        "    loop_list2[i] = float(loop_list2[i])\n",
        "    #print('went here')\n",
        "  elif isinstance(loop_list2[i], float) == True:\n",
        "    loop_list2[i] = int(loop_list2[i])\n",
        "    #print('then here')\n",
        "  i += 1\n",
        "print(loop_list2)"
      ],
      "execution_count": 25,
      "outputs": [
        {
          "output_type": "stream",
          "text": [
            "[1101.0, 704, 'Fort Mill']\n"
          ],
          "name": "stdout"
        }
      ]
    },
    {
      "cell_type": "code",
      "metadata": {
        "id": "Wr18vWyw7Atw",
        "colab_type": "code",
        "colab": {
          "base_uri": "https://localhost:8080/",
          "height": 34
        },
        "outputId": "502def5b-21f7-4b26-b0a2-fff78572f9e5"
      },
      "source": [
        "print(loop_list2)\n",
        "assert loop_list2 == [1101, 704, 'Fort Mill']"
      ],
      "execution_count": 26,
      "outputs": [
        {
          "output_type": "stream",
          "text": [
            "[1101.0, 704, 'Fort Mill']\n"
          ],
          "name": "stdout"
        }
      ]
    },
    {
      "cell_type": "markdown",
      "metadata": {
        "id": "3EN8_6by7At8",
        "colab_type": "text"
      },
      "source": [
        "# Tuples\n",
        "[Tuples Documentation](https://www.w3schools.com/python/python_tuples.asp)"
      ]
    },
    {
      "cell_type": "markdown",
      "metadata": {
        "id": "0l8h5pmA7AuA",
        "colab_type": "text"
      },
      "source": [
        "### 1. Fill the ___ parts of code below"
      ]
    },
    {
      "cell_type": "code",
      "metadata": {
        "id": "NZdZ-uE07AuE",
        "colab_type": "code",
        "outputId": "2739247e-3c64-4151-801b-c3107859947c",
        "colab": {
          "base_uri": "https://localhost:8080/",
          "height": 68
        }
      },
      "source": [
        "# TODO\n",
        "# create a tuple with items of different data types\n",
        "my_tuple = (1, 2.0, 'Jake')\n",
        "print(my_tuple, type(my_tuple))\n",
        "\n",
        "# Unpack my_tuple in several variables\n",
        "___= my_tuple\n",
        "#not sure what this is asking me to do here?\n",
        "\n",
        "# convert my_tuple to list and assign to variable my_list\n",
        "my_list = list(my_tuple)\n",
        "print(my_list, type(my_list))\n",
        "\n",
        "# convert my_list to tuple and assign to variable my_new_tuple\n",
        "my_new_tuple = tuple(my_list)\n",
        "print(my_new_tuple, type(my_new_tuple))"
      ],
      "execution_count": 29,
      "outputs": [
        {
          "output_type": "stream",
          "text": [
            "(1, 2.0, 'Jake') <class 'tuple'>\n",
            "[1, 2.0, 'Jake'] <class 'list'>\n",
            "(1, 2.0, 'Jake') <class 'tuple'>\n"
          ],
          "name": "stdout"
        }
      ]
    },
    {
      "cell_type": "markdown",
      "metadata": {
        "id": "QMEnG30-7AuN",
        "colab_type": "text"
      },
      "source": [
        "### 2. Check the immutable property of tuple"
      ]
    },
    {
      "cell_type": "code",
      "metadata": {
        "id": "g2ndaYWc7AuP",
        "colab_type": "code",
        "colab": {
          "base_uri": "https://localhost:8080/",
          "height": 153
        },
        "outputId": "7d4703df-89c1-4695-ec43-13194982187b"
      },
      "source": [
        "# TODO\n",
        "rv_tuple = 1101, 'Red', 'Ventures', 'Drive'\n",
        "print(rv_tuple, type(rv_tuple))\n",
        "# check id\n",
        "print(id(rv_tuple))\n",
        "# modify the variable\n",
        "rv_tuple = rv_tuple + (29707, )\n",
        "print(rv_tuple, type(rv_tuple))\n",
        "# check id\n",
        "print(id(rv_tuple))\n",
        "\n",
        "# TODO\n",
        "# Do the same exercises as above for a list and see the difference\n",
        "# Remember list is muttable\n",
        "\n",
        "rv_list = [1101, 'Red', 'Ventures', 'Drive']\n",
        "print(rv_list, type(rv_list))\n",
        "# check id\n",
        "print(id(rv_list))\n",
        "# modify the variable\n",
        "rv_list.append(29707)\n",
        "print(rv_list, type(rv_list))\n",
        "# check id\n",
        "print(id(rv_list))"
      ],
      "execution_count": 39,
      "outputs": [
        {
          "output_type": "stream",
          "text": [
            "(1101, 'Red', 'Ventures', 'Drive') <class 'tuple'>\n",
            "140049472990088\n",
            "(1101, 'Red', 'Ventures', 'Drive', 29707) <class 'tuple'>\n",
            "140049482412544\n",
            "[1101, 'Red', 'Ventures', 'Drive'] <class 'list'>\n",
            "140049471979080\n",
            "[1101, 'Red', 'Ventures', 'Drive', 29707] <class 'list'>\n",
            "140049471979080\n"
          ],
          "name": "stdout"
        }
      ]
    },
    {
      "cell_type": "markdown",
      "metadata": {
        "id": "Z-9LaoPd7AuS",
        "colab_type": "text"
      },
      "source": [
        "### 3. Define Functions  \n",
        "\n",
        "[Functions Documentation](https://www.w3schools.com/python/python_functions.asp)\n",
        "\n",
        "Write a function that accepts a string and return the number of uppercase letters and lowercase letters."
      ]
    },
    {
      "cell_type": "code",
      "metadata": {
        "id": "eFi_AMxO7AuT",
        "colab_type": "code",
        "colab": {
          "base_uri": "https://localhost:8080/",
          "height": 34
        },
        "outputId": "676bc600-bb44-4ff2-a402-9bb0fb19d04c"
      },
      "source": [
        "# TODO\n",
        "def check_case(phrase):\n",
        "  \n",
        "    lowercase_count = 0\n",
        "    uppercase_count = 0\n",
        "    \n",
        "    for letters in phrase:\n",
        "      if letters.islower():\n",
        "        #print(letters)\n",
        "        lowercase_count += 1\n",
        "    #print(\"Lowercase Letters: \" + str(lowercase_count))\n",
        "    \n",
        "    for letters in phrase:\n",
        "      if letters.isupper():\n",
        "        #print(letters)\n",
        "        uppercase_count += 1\n",
        "    #print(\"Uppercase Letters: \" + str(uppercase_count))\n",
        "    \n",
        "    uppercase_number = uppercase_count\n",
        "    lowercase_number = lowercase_count\n",
        "    \n",
        "    return uppercase_number, lowercase_number\n",
        "  \n",
        "check_case(\"This is Week3 Python Programming Homework.\")\n"
      ],
      "execution_count": 61,
      "outputs": [
        {
          "output_type": "execute_result",
          "data": {
            "text/plain": [
              "(5, 30)"
            ]
          },
          "metadata": {
            "tags": []
          },
          "execution_count": 61
        }
      ]
    },
    {
      "cell_type": "code",
      "metadata": {
        "id": "S_HsERBj7AuW",
        "colab_type": "code",
        "colab": {}
      },
      "source": [
        "my_string = \"This is Week3 Python Programming Homework.\"\n",
        "assert check_case(my_string)[0] == 5\n",
        "assert check_case(my_string)[1] == 30"
      ],
      "execution_count": 0,
      "outputs": []
    },
    {
      "cell_type": "markdown",
      "metadata": {
        "id": "uaVN_ukb7Aub",
        "colab_type": "text"
      },
      "source": [
        "## Dictionary\n",
        "[Dictionary Documentation](https://www.w3schools.com/python/python_dictionaries.asp)"
      ]
    },
    {
      "cell_type": "markdown",
      "metadata": {
        "id": "Js2-I_QD7Aud",
        "colab_type": "text"
      },
      "source": [
        "### 1. Fill the ___ parts of code below"
      ]
    },
    {
      "cell_type": "code",
      "metadata": {
        "id": "XuTs9Le57Aue",
        "colab_type": "code",
        "colab": {
          "base_uri": "https://localhost:8080/",
          "height": 85
        },
        "outputId": "78e8d204-80b5-4b6f-fc22-2e05b67e9098"
      },
      "source": [
        "# TODO\n",
        "# create an empty dictionary\n",
        "my_dict = {}\n",
        "print(my_dict, type(my_dict))\n",
        "\n",
        "# create a dictionary with values\n",
        "my_dict = {\"army\": \"Grey Knights\",\n",
        "          \"faction\": \"Imperium\",\n",
        "          \"category\": \"Space Marine\"}\n",
        "print(my_dict, type(my_dict))\n",
        "\n",
        "# add key/value to my_dict\n",
        "my_dict[\"color\"] = \"Grey\"\n",
        "print(my_dict)\n",
        "\n",
        "# remove the key you added from my_dict\n",
        "my_dict.pop(\"color\")\n",
        "print(my_dict)"
      ],
      "execution_count": 64,
      "outputs": [
        {
          "output_type": "stream",
          "text": [
            "{} <class 'dict'>\n",
            "{'army': 'Grey Knights', 'faction': 'Imperium', 'category': 'Space Marine'} <class 'dict'>\n",
            "{'army': 'Grey Knights', 'faction': 'Imperium', 'category': 'Space Marine', 'color': 'Grey'}\n",
            "{'army': 'Grey Knights', 'faction': 'Imperium', 'category': 'Space Marine'}\n"
          ],
          "name": "stdout"
        }
      ]
    },
    {
      "cell_type": "markdown",
      "metadata": {
        "id": "Ml3lRz_n7Auk",
        "colab_type": "text"
      },
      "source": [
        "### 2. Sort Dictionary\n",
        "\n",
        "Print out key/value pair by the ascending order of keys."
      ]
    },
    {
      "cell_type": "code",
      "metadata": {
        "id": "AGU1MAlc7Aum",
        "colab_type": "code",
        "colab": {
          "base_uri": "https://localhost:8080/",
          "height": 34
        },
        "outputId": "0951c648-651d-42a6-d77c-d117919413b6"
      },
      "source": [
        "# TODO\n",
        "location_dict = {'Charlotte': 'NC', 'Austin': 'TX', 'New York': 'NY', 'Los Angeles': 'CA'}\n",
        "sorted(location_dict.values())"
      ],
      "execution_count": 67,
      "outputs": [
        {
          "output_type": "execute_result",
          "data": {
            "text/plain": [
              "['CA', 'NC', 'NY', 'TX']"
            ]
          },
          "metadata": {
            "tags": []
          },
          "execution_count": 67
        }
      ]
    },
    {
      "cell_type": "markdown",
      "metadata": {
        "id": "_WqGMNwA7Aup",
        "colab_type": "text"
      },
      "source": [
        "Display the location_dict by the desending order of values."
      ]
    },
    {
      "cell_type": "code",
      "metadata": {
        "id": "iYk02HhK7Auq",
        "colab_type": "code",
        "colab": {
          "base_uri": "https://localhost:8080/",
          "height": 34
        },
        "outputId": "2e70a129-76c6-4480-ac2c-d542bcd47116"
      },
      "source": [
        "# TODO\n",
        "location_dict = {'Charlotte': 'NC', 'Austin': 'TX', 'New York': 'NY', 'Los Angeles': 'CA'}\n",
        "sorted(location_dict)"
      ],
      "execution_count": 68,
      "outputs": [
        {
          "output_type": "execute_result",
          "data": {
            "text/plain": [
              "['Austin', 'Charlotte', 'Los Angeles', 'New York']"
            ]
          },
          "metadata": {
            "tags": []
          },
          "execution_count": 68
        }
      ]
    },
    {
      "cell_type": "markdown",
      "metadata": {
        "id": "64kRRqXH7Aut",
        "colab_type": "text"
      },
      "source": [
        "## Set"
      ]
    },
    {
      "cell_type": "markdown",
      "metadata": {
        "id": "j2_QTboY7Auu",
        "colab_type": "text"
      },
      "source": [
        "Though `set` is not covered in the video materials, it is also one of the major data structures in Python.\n",
        "\n",
        "[Set Documentation](https://www.w3schools.com/python/python_sets.asp)"
      ]
    },
    {
      "cell_type": "markdown",
      "metadata": {
        "id": "n1kYZbrm7Auv",
        "colab_type": "text"
      },
      "source": [
        "### 1. Fill the ____ parts of code below"
      ]
    },
    {
      "cell_type": "code",
      "metadata": {
        "id": "rtWrdEwM7Auw",
        "colab_type": "code",
        "colab": {
          "base_uri": "https://localhost:8080/",
          "height": 153
        },
        "outputId": "06a34477-3c4c-4e84-ec37-de4190a48e37"
      },
      "source": [
        "# TODO\n",
        "# create an set\n",
        "my_set = set()\n",
        "print(my_set, type(my_set), '\\n')\n",
        "\n",
        "# create a set with values\n",
        "my_set = {\"apple\", \"banana\", \"cherry\"}\n",
        "print(my_set, type(my_set), '\\n')\n",
        "\n",
        "# add a new value to my_set\n",
        "# the value should be a different\n",
        "my_set.add(\"orange\")\n",
        "print(my_set, '\\n')\n",
        "\n",
        "\n",
        "# remove the value you added from my_set\n",
        "my_set.remove(\"orange\")\n",
        "print(my_set, '\\n')"
      ],
      "execution_count": 74,
      "outputs": [
        {
          "output_type": "stream",
          "text": [
            "set() <class 'set'> \n",
            "\n",
            "{'apple', 'cherry', 'banana'} <class 'set'> \n",
            "\n",
            "{'apple', 'cherry', 'orange', 'banana'} \n",
            "\n",
            "{'apple', 'cherry', 'banana'} \n",
            "\n"
          ],
          "name": "stdout"
        }
      ]
    },
    {
      "cell_type": "markdown",
      "metadata": {
        "id": "CNOjAnbC7Au1",
        "colab_type": "text"
      },
      "source": [
        "### 2. Set Manipulation"
      ]
    },
    {
      "cell_type": "markdown",
      "metadata": {
        "id": "kyKzz_X-7Au4",
        "colab_type": "text"
      },
      "source": [
        "Use a list  with duplicated values and a tuple to create two sets respectivley, and get a union set between those two."
      ]
    },
    {
      "cell_type": "code",
      "metadata": {
        "id": "p4HP2wwt7Au5",
        "colab_type": "code",
        "colab": {
          "base_uri": "https://localhost:8080/",
          "height": 85
        },
        "outputId": "bbae944a-eefb-4d46-9e5f-60bb9fc23184"
      },
      "source": [
        "# TODO\n",
        "myList = [\"Necrons\",\"Grey Knights\",\"Tau\"]\n",
        "print(myList)\n",
        "#type(myList)\n",
        "\n",
        "myTuple = (\"Chaos\",\"Eldar\",\"Orks\")\n",
        "print(myTuple)\n",
        "#type(myTuple)\n",
        "\n",
        "setOne = set(myList)\n",
        "setTwo = set(myTuple)\n",
        "\n",
        "setUnion = set()\n",
        "setUnion = setOne|setTwo\n",
        "# or could do: setUnion = setOne.union(setTwo)\n",
        "print(setUnion)\n",
        "type(setUnion)"
      ],
      "execution_count": 89,
      "outputs": [
        {
          "output_type": "stream",
          "text": [
            "['Necrons', 'Grey Knights', 'Tau']\n",
            "('Chaos', 'Eldar', 'Orks')\n",
            "{'Tau', 'Chaos', 'Grey Knights', 'Orks', 'Necrons', 'Eldar'}\n"
          ],
          "name": "stdout"
        },
        {
          "output_type": "execute_result",
          "data": {
            "text/plain": [
              "set"
            ]
          },
          "metadata": {
            "tags": []
          },
          "execution_count": 89
        }
      ]
    },
    {
      "cell_type": "markdown",
      "metadata": {
        "id": "Zs1P8a1T7Au8",
        "colab_type": "text"
      },
      "source": [
        "Create two sets `my_set1` and `my_set2`, and get values in `my_set1` but not in `my_set2`."
      ]
    },
    {
      "cell_type": "code",
      "metadata": {
        "id": "wsZVJKtu7Au-",
        "colab_type": "code",
        "colab": {
          "base_uri": "https://localhost:8080/",
          "height": 68
        },
        "outputId": "12ee1f35-b462-4b0b-aed6-9696555a29d6"
      },
      "source": [
        "# TODO\n",
        "\n",
        "#not totally sure I understand the directions here\n",
        "my_set1 = {\"apple\",\"banana\",\"cherry\"}\n",
        "my_set2 = {\"yay\",\"mmm\",\"woohoo\"}\n",
        "\n",
        "my_set3 = set(my_set1)\n",
        "\n",
        "for fruits in my_set3:\n",
        "  print(fruits)"
      ],
      "execution_count": 94,
      "outputs": [
        {
          "output_type": "stream",
          "text": [
            "apple\n",
            "cherry\n",
            "banana\n"
          ],
          "name": "stdout"
        }
      ]
    },
    {
      "cell_type": "markdown",
      "metadata": {
        "id": "P-2WbcTG7AvB",
        "colab_type": "text"
      },
      "source": [
        "## Submission\n",
        "\n",
        "Download completed **Week3_PythonProgramming_Homework.ipynb** from Google Colab and commit to your personal Github repo you shared with the faculty."
      ]
    }
  ]
}