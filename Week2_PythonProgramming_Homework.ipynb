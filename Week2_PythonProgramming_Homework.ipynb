{
  "nbformat": 4,
  "nbformat_minor": 0,
  "metadata": {
    "kernelspec": {
      "display_name": "Python 3",
      "language": "python",
      "name": "python3"
    },
    "language_info": {
      "codemirror_mode": {
        "name": "ipython",
        "version": 3
      },
      "file_extension": ".py",
      "mimetype": "text/x-python",
      "name": "python",
      "nbconvert_exporter": "python",
      "pygments_lexer": "ipython3",
      "version": "3.7.3"
    },
    "colab": {
      "name": "Week2_PythonProgramming_Homework.ipynb",
      "version": "0.3.2",
      "provenance": [],
      "collapsed_sections": [
        "mEoEMlmOQFi5"
      ]
    }
  },
  "cells": [
    {
      "cell_type": "markdown",
      "metadata": {
        "id": "Kxi9bkWzQFhL",
        "colab_type": "text"
      },
      "source": [
        "## Week2 Python Programming"
      ]
    },
    {
      "cell_type": "markdown",
      "metadata": {
        "id": "jf0OGdcyQFhN",
        "colab_type": "text"
      },
      "source": [
        "In week2, we've covered:\n",
        "* Create **variables** \n",
        "* Different **data types**:\n",
        "    * int\n",
        "    * float\n",
        "    * boolean\n",
        "    * string\n",
        "* Import **standard library**:\n",
        "    * math"
      ]
    },
    {
      "cell_type": "markdown",
      "metadata": {
        "id": "SBBLbFhIQFhP",
        "colab_type": "text"
      },
      "source": [
        "The best way to consolidate the knowledge in your mind is by practicing.<br>Please complete the part marked with <span style=\"color:green\">**# TODO**</span>.\n",
        "\n",
        "[Google](www.google.com) and [Python Documentation](https://docs.python.org/3/contents.html) are your good friends if you have any python questions.\n",
        "\n",
        "Upload **Week2_PythonProgramming_Homework.ipynb** notebook to your Google Drive and open it with Google Colab."
      ]
    },
    {
      "cell_type": "markdown",
      "metadata": {
        "id": "mZB3oWAiQFhQ",
        "colab_type": "text"
      },
      "source": [
        "## Variables and types"
      ]
    },
    {
      "cell_type": "markdown",
      "metadata": {
        "id": "0nirJIU8QFhR",
        "colab_type": "text"
      },
      "source": [
        "### Symbol names"
      ]
    },
    {
      "cell_type": "markdown",
      "metadata": {
        "id": "O76iUTo9QFhS",
        "colab_type": "text"
      },
      "source": [
        "Variable names in Python can contain alphanumerical characters `a-z`, `A-Z`, `0-9` and some special characters such as `_`. Normal variable names must start with a letter. \n",
        "\n",
        "By convention, variable names start with a lower-case letter, and Class names start with a capital letter. \n",
        "\n",
        "In addition, there are a number of Python keywords that cannot be used as variable names. These keywords are:\n",
        "\n",
        "    and, as, assert, break, class, continue, def, del, elif, else, except, \n",
        "    exec, finally, for, from, global, if, import, in, is, lambda, not, or,\n",
        "    pass, print, raise, return, try, while, with, yield"
      ]
    },
    {
      "cell_type": "markdown",
      "metadata": {
        "id": "lnKC-IwRQFhT",
        "colab_type": "text"
      },
      "source": [
        "## Assignment"
      ]
    },
    {
      "cell_type": "markdown",
      "metadata": {
        "id": "DulZTiFyQFhV",
        "colab_type": "text"
      },
      "source": [
        "\n",
        "The assignment operator in Python is `=`. Python is a dynamically typed language, so we do not need to specify the type of a variable when we create one."
      ]
    },
    {
      "cell_type": "markdown",
      "metadata": {
        "id": "5AuKNf9mQFhW",
        "colab_type": "text"
      },
      "source": [
        "Assign an `int` to a variable with name `x` and print its type."
      ]
    },
    {
      "cell_type": "code",
      "metadata": {
        "id": "hKtqbWTrQFhX",
        "colab_type": "code",
        "outputId": "c631bd3e-72c0-4f40-aba3-a0c7a43ea41f",
        "colab": {
          "base_uri": "https://localhost:8080/",
          "height": 34
        }
      },
      "source": [
        "# TODO\n",
        "x = 2\n",
        "type(x)"
      ],
      "execution_count": 0,
      "outputs": [
        {
          "output_type": "execute_result",
          "data": {
            "text/plain": [
              "int"
            ]
          },
          "metadata": {
            "tags": []
          },
          "execution_count": 1
        }
      ]
    },
    {
      "cell_type": "markdown",
      "metadata": {
        "id": "TtloiJAwQFha",
        "colab_type": "text"
      },
      "source": [
        "Assign a new value with `string` type to the same varaible `x` and print its type."
      ]
    },
    {
      "cell_type": "code",
      "metadata": {
        "id": "27xoVtpWQFhb",
        "colab_type": "code",
        "outputId": "3acdd300-3318-4e0e-f053-151d2721f31b",
        "colab": {
          "base_uri": "https://localhost:8080/",
          "height": 34
        }
      },
      "source": [
        "# TODO\n",
        "x = \"jake williams\"\n",
        "type(x)"
      ],
      "execution_count": 0,
      "outputs": [
        {
          "output_type": "execute_result",
          "data": {
            "text/plain": [
              "str"
            ]
          },
          "metadata": {
            "tags": []
          },
          "execution_count": 2
        }
      ]
    },
    {
      "cell_type": "markdown",
      "metadata": {
        "id": "nQdIUCyiQFhe",
        "colab_type": "text"
      },
      "source": [
        "Print the value of a variable that has not been defined, see what error do you get:"
      ]
    },
    {
      "cell_type": "code",
      "metadata": {
        "id": "i60-BrfuQFhf",
        "colab_type": "code",
        "outputId": "51ff1506-5eca-4a8d-c675-0b667c021a48",
        "colab": {
          "base_uri": "https://localhost:8080/",
          "height": 163
        }
      },
      "source": [
        "# TODO\n",
        "type(y)"
      ],
      "execution_count": 0,
      "outputs": [
        {
          "output_type": "error",
          "ename": "NameError",
          "evalue": "ignored",
          "traceback": [
            "\u001b[0;31m---------------------------------------------------------------------------\u001b[0m",
            "\u001b[0;31mNameError\u001b[0m                                 Traceback (most recent call last)",
            "\u001b[0;32m<ipython-input-3-74463a5214db>\u001b[0m in \u001b[0;36m<module>\u001b[0;34m()\u001b[0m\n\u001b[0;32m----> 1\u001b[0;31m \u001b[0mtype\u001b[0m\u001b[0;34m(\u001b[0m\u001b[0my\u001b[0m\u001b[0;34m)\u001b[0m\u001b[0;34m\u001b[0m\u001b[0;34m\u001b[0m\u001b[0m\n\u001b[0m",
            "\u001b[0;31mNameError\u001b[0m: name 'y' is not defined"
          ]
        }
      ]
    },
    {
      "cell_type": "markdown",
      "metadata": {
        "id": "paLBi8DTQFhi",
        "colab_type": "text"
      },
      "source": [
        "## Operators and comparisons"
      ]
    },
    {
      "cell_type": "markdown",
      "metadata": {
        "id": "8m04u_EMQFhj",
        "colab_type": "text"
      },
      "source": [
        "Most operators and comparisons in Python work as one would expect:\n",
        "\n",
        "* Arithmetic operators `+`, `-`, `*`, `/`, `//` (integer division), '**' power"
      ]
    },
    {
      "cell_type": "markdown",
      "metadata": {
        "id": "Vk64If_yQFhk",
        "colab_type": "text"
      },
      "source": [
        "Print the sum, difference, mutplication, and divison between `1` and `2`."
      ]
    },
    {
      "cell_type": "code",
      "metadata": {
        "id": "oaQVq1S6QFhl",
        "colab_type": "code",
        "colab": {
          "base_uri": "https://localhost:8080/",
          "height": 85
        },
        "outputId": "944b02b7-a969-4092-82c7-ecf5c9a661a4"
      },
      "source": [
        "# TODO  \n",
        "print(1 + 2)\n",
        "print(1 - 2)\n",
        "print(1 * 2)\n",
        "print(1 / 2)"
      ],
      "execution_count": 4,
      "outputs": [
        {
          "output_type": "stream",
          "text": [
            "3\n",
            "-1\n",
            "2\n",
            "0.5\n"
          ],
          "name": "stdout"
        }
      ]
    },
    {
      "cell_type": "markdown",
      "metadata": {
        "id": "gfAES3WkQFhn",
        "colab_type": "text"
      },
      "source": [
        "Carry out Interger division of two float numbers."
      ]
    },
    {
      "cell_type": "code",
      "metadata": {
        "id": "fzMTOMWiQFho",
        "colab_type": "code",
        "colab": {
          "base_uri": "https://localhost:8080/",
          "height": 34
        },
        "outputId": "9bf114d6-481a-4e69-b816-91e5fed07e50"
      },
      "source": [
        "# TODO  \n",
        "float(1)/float(2)"
      ],
      "execution_count": 5,
      "outputs": [
        {
          "output_type": "execute_result",
          "data": {
            "text/plain": [
              "0.5"
            ]
          },
          "metadata": {
            "tags": []
          },
          "execution_count": 5
        }
      ]
    },
    {
      "cell_type": "markdown",
      "metadata": {
        "id": "dJWtaxh5QFhs",
        "colab_type": "text"
      },
      "source": [
        "What is the value of `2` Power `15`?"
      ]
    },
    {
      "cell_type": "code",
      "metadata": {
        "id": "sPaIG2ycQFht",
        "colab_type": "code",
        "colab": {
          "base_uri": "https://localhost:8080/",
          "height": 34
        },
        "outputId": "bbe93835-c4d1-4e67-ca2e-a31e8425bcca"
      },
      "source": [
        "# TODO\n",
        "2**5"
      ],
      "execution_count": 6,
      "outputs": [
        {
          "output_type": "execute_result",
          "data": {
            "text/plain": [
              "32"
            ]
          },
          "metadata": {
            "tags": []
          },
          "execution_count": 6
        }
      ]
    },
    {
      "cell_type": "markdown",
      "metadata": {
        "id": "WxOpZcNJQFhw",
        "colab_type": "text"
      },
      "source": [
        "Are the types of `1+2` and `1.0+2` the same?"
      ]
    },
    {
      "cell_type": "code",
      "metadata": {
        "id": "YNEmPGXOQFhx",
        "colab_type": "code",
        "colab": {
          "base_uri": "https://localhost:8080/",
          "height": 34
        },
        "outputId": "b52f5305-24fd-4a1f-863f-1aa27ab6c29a"
      },
      "source": [
        "# TODO\n",
        "# no, one is int, one is float\n",
        "type(3)\n",
        "type(3.0)\n"
      ],
      "execution_count": 8,
      "outputs": [
        {
          "output_type": "execute_result",
          "data": {
            "text/plain": [
              "float"
            ]
          },
          "metadata": {
            "tags": []
          },
          "execution_count": 8
        }
      ]
    },
    {
      "cell_type": "markdown",
      "metadata": {
        "id": "g3dBEHjxQFhz",
        "colab_type": "text"
      },
      "source": [
        "* The boolean operators are spelled out as the words `and`, `not`, `or`.  "
      ]
    },
    {
      "cell_type": "markdown",
      "metadata": {
        "id": "L7cHjBX7QFh0",
        "colab_type": "text"
      },
      "source": [
        "* Comparison operators `>`, `<`, `>=` (greater or equal), `<=` (less or equal), `==` equality, `is` identical."
      ]
    },
    {
      "cell_type": "markdown",
      "metadata": {
        "id": "2bF7n4dlQFh0",
        "colab_type": "text"
      },
      "source": [
        "Compare two boolean `True` and `False`"
      ]
    },
    {
      "cell_type": "code",
      "metadata": {
        "id": "FcqLguFeQFh1",
        "colab_type": "code",
        "colab": {
          "base_uri": "https://localhost:8080/",
          "height": 34
        },
        "outputId": "db011f5a-b41e-4fab-8360-33a6cb5e3ad2"
      },
      "source": [
        "# TODO\n",
        "True == False"
      ],
      "execution_count": 9,
      "outputs": [
        {
          "output_type": "execute_result",
          "data": {
            "text/plain": [
              "False"
            ]
          },
          "metadata": {
            "tags": []
          },
          "execution_count": 9
        }
      ]
    },
    {
      "cell_type": "markdown",
      "metadata": {
        "id": "kn_UvYnZQFh3",
        "colab_type": "text"
      },
      "source": [
        "Use `False` to get `True`"
      ]
    },
    {
      "cell_type": "code",
      "metadata": {
        "id": "OHTZkMbzQFh4",
        "colab_type": "code",
        "colab": {
          "base_uri": "https://localhost:8080/",
          "height": 34
        },
        "outputId": "733cbe0b-7383-4779-aef5-f4ac9a2c0939"
      },
      "source": [
        "# TODO\n",
        "False == False"
      ],
      "execution_count": 11,
      "outputs": [
        {
          "output_type": "execute_result",
          "data": {
            "text/plain": [
              "True"
            ]
          },
          "metadata": {
            "tags": []
          },
          "execution_count": 11
        }
      ]
    },
    {
      "cell_type": "markdown",
      "metadata": {
        "id": "C1NQnJcWQFh6",
        "colab_type": "text"
      },
      "source": [
        "Inclue both `False` and `True` in your code to get `True`"
      ]
    },
    {
      "cell_type": "code",
      "metadata": {
        "id": "W9CzUkZXQFh6",
        "colab_type": "code",
        "colab": {
          "base_uri": "https://localhost:8080/",
          "height": 34
        },
        "outputId": "5a308dcf-e05d-4844-b455-2ae917600eab"
      },
      "source": [
        "# TODO\n",
        "False or True"
      ],
      "execution_count": 13,
      "outputs": [
        {
          "output_type": "execute_result",
          "data": {
            "text/plain": [
              "True"
            ]
          },
          "metadata": {
            "tags": []
          },
          "execution_count": 13
        }
      ]
    },
    {
      "cell_type": "markdown",
      "metadata": {
        "id": "fNPa88CkQFh9",
        "colab_type": "text"
      },
      "source": [
        "Use two different ways: `==` and `is` to check if `l1` and `l2` is identical."
      ]
    },
    {
      "cell_type": "code",
      "metadata": {
        "id": "DSzduvVwQFh9",
        "colab_type": "code",
        "colab": {
          "base_uri": "https://localhost:8080/",
          "height": 34
        },
        "outputId": "9c28f8e5-4057-44c9-b7b2-e710a90bf756"
      },
      "source": [
        "# TODO\n",
        "l1 = [1, 2]\n",
        "l2 = [1, 2.0]\n",
        "l1 == l2\n",
        "l1 is l2"
      ],
      "execution_count": 15,
      "outputs": [
        {
          "output_type": "execute_result",
          "data": {
            "text/plain": [
              "False"
            ]
          },
          "metadata": {
            "tags": []
          },
          "execution_count": 15
        }
      ]
    },
    {
      "cell_type": "markdown",
      "metadata": {
        "id": "yNDurVAoQFh_",
        "colab_type": "text"
      },
      "source": [
        "## Strings"
      ]
    },
    {
      "cell_type": "markdown",
      "metadata": {
        "id": "01sj_9yUQFiA",
        "colab_type": "text"
      },
      "source": [
        "Strings are the variables type that is used for storing text messages."
      ]
    },
    {
      "cell_type": "markdown",
      "metadata": {
        "id": "uDhVfmqEQFiB",
        "colab_type": "text"
      },
      "source": [
        "Create three string variables, and use one `print` to display all three variables."
      ]
    },
    {
      "cell_type": "code",
      "metadata": {
        "id": "_60RfCSUQFiB",
        "colab_type": "code",
        "colab": {
          "base_uri": "https://localhost:8080/",
          "height": 34
        },
        "outputId": "861d4898-ea1f-4b03-acf3-fedd4c2c5112"
      },
      "source": [
        "# TODO\n",
        "x = \"These are\"\n",
        "y = \"string\"\n",
        "z = \"variables.\"\n",
        "\n",
        "print(x,y,z)"
      ],
      "execution_count": 18,
      "outputs": [
        {
          "output_type": "stream",
          "text": [
            "These are string variables.\n"
          ],
          "name": "stdout"
        }
      ]
    },
    {
      "cell_type": "markdown",
      "metadata": {
        "id": "efY2ghl2QFiE",
        "colab_type": "text"
      },
      "source": [
        "Check the length of \"Hello world!\"."
      ]
    },
    {
      "cell_type": "code",
      "metadata": {
        "id": "vg7r2bGHQFiF",
        "colab_type": "code",
        "colab": {
          "base_uri": "https://localhost:8080/",
          "height": 34
        },
        "outputId": "3d3b9b72-fb3d-45ca-956d-8af13fda1df6"
      },
      "source": [
        "# TODO\n",
        "len(\"Hello world!\")"
      ],
      "execution_count": 19,
      "outputs": [
        {
          "output_type": "execute_result",
          "data": {
            "text/plain": [
              "12"
            ]
          },
          "metadata": {
            "tags": []
          },
          "execution_count": 19
        }
      ]
    },
    {
      "cell_type": "markdown",
      "metadata": {
        "id": "iI0Tmg8BQFiI",
        "colab_type": "text"
      },
      "source": [
        "Get the index `0`character in a string."
      ]
    },
    {
      "cell_type": "code",
      "metadata": {
        "id": "mleW0T8GQFiI",
        "colab_type": "code",
        "colab": {
          "base_uri": "https://localhost:8080/",
          "height": 34
        },
        "outputId": "41167c5f-6a95-4016-de0c-252eeb5ec260"
      },
      "source": [
        "# TODO\n",
        "x = \"Jake\"\n",
        "print(x[0])"
      ],
      "execution_count": 24,
      "outputs": [
        {
          "output_type": "stream",
          "text": [
            "J\n"
          ],
          "name": "stdout"
        }
      ]
    },
    {
      "cell_type": "markdown",
      "metadata": {
        "id": "T-jvmbVAQFiM",
        "colab_type": "text"
      },
      "source": [
        "Get the first 3 characters in a string."
      ]
    },
    {
      "cell_type": "code",
      "metadata": {
        "id": "GCYTFLcQQFiN",
        "colab_type": "code",
        "colab": {
          "base_uri": "https://localhost:8080/",
          "height": 34
        },
        "outputId": "f347a1dd-4cb1-47d0-e014-19548c648e23"
      },
      "source": [
        "# TODO\n",
        "x = \"Jake\"\n",
        "print(x[0:3])"
      ],
      "execution_count": 26,
      "outputs": [
        {
          "output_type": "stream",
          "text": [
            "Jak\n"
          ],
          "name": "stdout"
        }
      ]
    },
    {
      "cell_type": "markdown",
      "metadata": {
        "id": "TR7l6X5dQFiP",
        "colab_type": "text"
      },
      "source": [
        "Use a start index and a stop index to get the fifth character in a string."
      ]
    },
    {
      "cell_type": "code",
      "metadata": {
        "id": "3tj0GKYqQFiQ",
        "colab_type": "code",
        "colab": {
          "base_uri": "https://localhost:8080/",
          "height": 34
        },
        "outputId": "0994c6fd-d8a3-43c2-bc14-90fa942df7dc"
      },
      "source": [
        "# TODO\n",
        "s = \"Red Ventures\"\n",
        "print(s[4:5])"
      ],
      "execution_count": 30,
      "outputs": [
        {
          "output_type": "stream",
          "text": [
            "V\n"
          ],
          "name": "stdout"
        }
      ]
    },
    {
      "cell_type": "markdown",
      "metadata": {
        "id": "YX6c5dK5QFiS",
        "colab_type": "text"
      },
      "source": [
        "Get the last character in a string."
      ]
    },
    {
      "cell_type": "code",
      "metadata": {
        "id": "Ekgh8CI5QFiT",
        "colab_type": "code",
        "colab": {
          "base_uri": "https://localhost:8080/",
          "height": 34
        },
        "outputId": "2912d570-edc5-48d3-a730-616b1a4983ff"
      },
      "source": [
        "# TODO\n",
        "s = \"Charlotte\"\n",
        "print(s[8:])"
      ],
      "execution_count": 34,
      "outputs": [
        {
          "output_type": "stream",
          "text": [
            "e\n"
          ],
          "name": "stdout"
        }
      ]
    },
    {
      "cell_type": "markdown",
      "metadata": {
        "id": "Itnh6_61QFiU",
        "colab_type": "text"
      },
      "source": [
        "#### Escape characters\n",
        "In Python strings, the backslash \"\\\\\" is a special character, also called the **\"escape\"** character. It is used in representing certain whitespace characters: \"\\t\" is a tab, \"\\n\" is a newline, and \"\\r\" is a carriage return. Conversely, prefixing a special character with \"\\\" turns it into an ordinary character."
      ]
    },
    {
      "cell_type": "markdown",
      "metadata": {
        "id": "7NC6yTnhQFiV",
        "colab_type": "text"
      },
      "source": [
        "Print out the following strings:\n",
        "<pre>\n",
        "'    Everything is written in pencil.'\n",
        "\n",
        "'Everything is written\n",
        " in pencil.'\n",
        " \n",
        "'Everything \\ is written \\ in pencil.'\n",
        "\n",
        "'Red Ventures brands, just list a few:\n",
        "   * Bankrate\n",
        "   * Reviews.com\n",
        "   * the Points Guy\n",
        "   * creditcards.com'\n",
        "</pre>"
      ]
    },
    {
      "cell_type": "code",
      "metadata": {
        "id": "dgCc2ko7QFiW",
        "colab_type": "code",
        "colab": {
          "base_uri": "https://localhost:8080/",
          "height": 170
        },
        "outputId": "ecdebbc3-b395-4f10-cea7-24946a54d131"
      },
      "source": [
        "# TODO\n",
        "print(\"\\t Everthing is written in pencil.\")\n",
        "\n",
        "print(\"Everything is written \\n in pencil.\")\n",
        "\n",
        "print(\"Everything \\\\ is written \\\\ in pencil.\")\n",
        "\n",
        "print(\"Red Ventures brands, just list a few:\\n \\t* Bankrate\\n \\t* Reviews.com\\n \\t* the Points Guy\\n \\t* creditcards.com\")"
      ],
      "execution_count": 40,
      "outputs": [
        {
          "output_type": "stream",
          "text": [
            "\t Everthing is written in pencil.\n",
            "Everything is written \n",
            " in pencil.\n",
            "Everything \\ is written \\ in pencil.\n",
            "Red Ventures brands, just list a few:\n",
            " \t* Bankrate\n",
            " \t* Reviews.com\n",
            " \t* the Points Guy\n",
            " \t* creditcards.com\n"
          ],
          "name": "stdout"
        }
      ]
    },
    {
      "cell_type": "markdown",
      "metadata": {
        "id": "ftxj5QpzQFiX",
        "colab_type": "text"
      },
      "source": [
        "#### String methods\n",
        "Here are some of the most common string methods. A method is like a function, but it runs \"on\" an object. If the variable s is a string, then the code s.lower() runs the lower() method on that string object and returns the result (this idea of a method running on an object is one of the basic ideas that make up Object Oriented Programming, OOP). Here are some of the most common string methods:\n",
        "\n",
        "lower(), upper(), strip(), isdigit(), startswith(), endswith(), find(), replace(), split(), join()\n",
        "\n",
        "[Documentation](https://docs.python.org/3/library/stdtypes.html#string-methods)"
      ]
    },
    {
      "cell_type": "markdown",
      "metadata": {
        "id": "UeGbJwHOQFiY",
        "colab_type": "text"
      },
      "source": [
        "Convert all letters to lower cases."
      ]
    },
    {
      "cell_type": "code",
      "metadata": {
        "id": "nd9MsFDRQFiY",
        "colab_type": "code",
        "colab": {
          "base_uri": "https://localhost:8080/",
          "height": 34
        },
        "outputId": "456eda99-70e8-4a7d-f4be-a75423312c86"
      },
      "source": [
        "# TODO\n",
        "s = 'RED FISH'\n",
        "print(s.lower())"
      ],
      "execution_count": 43,
      "outputs": [
        {
          "output_type": "stream",
          "text": [
            "red fish\n"
          ],
          "name": "stdout"
        }
      ]
    },
    {
      "cell_type": "markdown",
      "metadata": {
        "id": "J38p_F4TQFib",
        "colab_type": "text"
      },
      "source": [
        "Check if string starts with `r`"
      ]
    },
    {
      "cell_type": "code",
      "metadata": {
        "id": "PA86vA-cQFib",
        "colab_type": "code",
        "colab": {
          "base_uri": "https://localhost:8080/",
          "height": 34
        },
        "outputId": "4e5a2bea-e95d-4d1b-cbee-b8852920b77e"
      },
      "source": [
        "# TODO\n",
        "s = 'Run Up Escalators'\n",
        "s.startswith(\"r\")"
      ],
      "execution_count": 45,
      "outputs": [
        {
          "output_type": "execute_result",
          "data": {
            "text/plain": [
              "False"
            ]
          },
          "metadata": {
            "tags": []
          },
          "execution_count": 45
        }
      ]
    },
    {
      "cell_type": "markdown",
      "metadata": {
        "id": "uyHtjAD6QFie",
        "colab_type": "text"
      },
      "source": [
        "Find the index of the single quote."
      ]
    },
    {
      "cell_type": "code",
      "metadata": {
        "id": "kagFUEbOQFie",
        "colab_type": "code",
        "colab": {
          "base_uri": "https://localhost:8080/",
          "height": 34
        },
        "outputId": "868b0116-5ec2-4718-d1f4-c0bb018306a1"
      },
      "source": [
        "# TODO\n",
        "s = \"You don't have to lie.\"\n",
        "s.find(\"\\'\")"
      ],
      "execution_count": 47,
      "outputs": [
        {
          "output_type": "execute_result",
          "data": {
            "text/plain": [
              "7"
            ]
          },
          "metadata": {
            "tags": []
          },
          "execution_count": 47
        }
      ]
    },
    {
      "cell_type": "markdown",
      "metadata": {
        "id": "PNRAiUgtQFih",
        "colab_type": "text"
      },
      "source": [
        "## Type casting\n",
        "The process of converting the value of one data type to another is called type casting or type conversion."
      ]
    },
    {
      "cell_type": "markdown",
      "metadata": {
        "id": "op-N2SbhQFih",
        "colab_type": "text"
      },
      "source": [
        "Cast variable `z` to `int` and print its type."
      ]
    },
    {
      "cell_type": "code",
      "metadata": {
        "id": "1RZuyZl0QFii",
        "colab_type": "code",
        "colab": {
          "base_uri": "https://localhost:8080/",
          "height": 34
        },
        "outputId": "4f77e1cc-ec89-4384-ad87-3e3ab4010668"
      },
      "source": [
        "# TODO\n",
        "z = int(2.1)\n",
        "print(z)"
      ],
      "execution_count": 51,
      "outputs": [
        {
          "output_type": "stream",
          "text": [
            "2\n"
          ],
          "name": "stdout"
        }
      ]
    },
    {
      "cell_type": "markdown",
      "metadata": {
        "id": "eGG_ZygfQFik",
        "colab_type": "text"
      },
      "source": [
        "Are the types of 1 + 2 and 1.0 + 2 the same?"
      ]
    },
    {
      "cell_type": "code",
      "metadata": {
        "id": "VlNHawUeQFik",
        "colab_type": "code",
        "colab": {
          "base_uri": "https://localhost:8080/",
          "height": 34
        },
        "outputId": "08954f36-ba59-400f-c42b-2d469b5c19be"
      },
      "source": [
        "# TODO\n",
        "\n",
        "# No\n",
        "x = 1+2\n",
        "type(x)\n",
        "\n",
        "y = 1.0+2\n",
        "type(y)"
      ],
      "execution_count": 55,
      "outputs": [
        {
          "output_type": "execute_result",
          "data": {
            "text/plain": [
              "float"
            ]
          },
          "metadata": {
            "tags": []
          },
          "execution_count": 55
        }
      ]
    },
    {
      "cell_type": "markdown",
      "metadata": {
        "id": "inPEes-oQFin",
        "colab_type": "text"
      },
      "source": [
        "Add num_int and num_str, you should provide two outputs. One is a string and the other is an int."
      ]
    },
    {
      "cell_type": "code",
      "metadata": {
        "id": "OyzdxLQmQFin",
        "colab_type": "code",
        "colab": {
          "base_uri": "https://localhost:8080/",
          "height": 51
        },
        "outputId": "b0bc0775-574e-4b0d-8b2e-42a4b7c2481d"
      },
      "source": [
        "# TODO\n",
        "num_int = 123\n",
        "num_str = \"456\"\n",
        "x = num_int + int(num_str)\n",
        "print(x)\n",
        "\n",
        "y = str(num_int) + num_str\n",
        "print(y)"
      ],
      "execution_count": 58,
      "outputs": [
        {
          "output_type": "stream",
          "text": [
            "579\n",
            "123456\n"
          ],
          "name": "stdout"
        }
      ]
    },
    {
      "cell_type": "markdown",
      "metadata": {
        "id": "C_w3bHoDQFip",
        "colab_type": "text"
      },
      "source": [
        "What happends if you cast `-1` to a boolean?"
      ]
    },
    {
      "cell_type": "code",
      "metadata": {
        "id": "41-L_9ZYQFiq",
        "colab_type": "code",
        "colab": {
          "base_uri": "https://localhost:8080/",
          "height": 34
        },
        "outputId": "5f6afcdb-cdc4-493a-80fb-9e7f0717a507"
      },
      "source": [
        "# TODO\n",
        "bool(-1)"
      ],
      "execution_count": 59,
      "outputs": [
        {
          "output_type": "execute_result",
          "data": {
            "text/plain": [
              "True"
            ]
          },
          "metadata": {
            "tags": []
          },
          "execution_count": 59
        }
      ]
    },
    {
      "cell_type": "markdown",
      "metadata": {
        "id": "WLlfWL41QFiv",
        "colab_type": "text"
      },
      "source": [
        "## Standard Library\n",
        "Python’s standard library is very extensive, offering a wide range of facilities. The library contains built-in modules (written in C) that provide access to system functionality as well as modules written in Python that provide standardized solutions for many problems that occur in everyday programming. \n",
        "\n",
        "For example, the `math` module gives access to the underlying C library functions for floating point math.\n",
        "\n",
        "[Documentation](https://docs.python.org/3/library/math.html)\n",
        "<br>\n",
        "<br>"
      ]
    },
    {
      "cell_type": "markdown",
      "metadata": {
        "id": "QJai2lMmQFiw",
        "colab_type": "text"
      },
      "source": [
        "Import math module and calcualte $e^4$."
      ]
    },
    {
      "cell_type": "code",
      "metadata": {
        "id": "-fXe3tvzQFiw",
        "colab_type": "code",
        "colab": {
          "base_uri": "https://localhost:8080/",
          "height": 34
        },
        "outputId": "2af8eda9-48ca-4bc3-fbe7-4ab33dbf4189"
      },
      "source": [
        "# TODO\n",
        "import math\n",
        "math.exp(4)"
      ],
      "execution_count": 60,
      "outputs": [
        {
          "output_type": "execute_result",
          "data": {
            "text/plain": [
              "54.598150033144236"
            ]
          },
          "metadata": {
            "tags": []
          },
          "execution_count": 60
        }
      ]
    },
    {
      "cell_type": "markdown",
      "metadata": {
        "id": "0suYYVCXQFiy",
        "colab_type": "text"
      },
      "source": [
        "Calculate the value of $log_2(8)$."
      ]
    },
    {
      "cell_type": "code",
      "metadata": {
        "id": "3hACM2FeQFiy",
        "colab_type": "code",
        "colab": {
          "base_uri": "https://localhost:8080/",
          "height": 34
        },
        "outputId": "3f02067c-3203-443a-dfa3-bd7d2be6059a"
      },
      "source": [
        "# TODO\n",
        "import math\n",
        "math.log2(8)"
      ],
      "execution_count": 61,
      "outputs": [
        {
          "output_type": "execute_result",
          "data": {
            "text/plain": [
              "3.0"
            ]
          },
          "metadata": {
            "tags": []
          },
          "execution_count": 61
        }
      ]
    },
    {
      "cell_type": "markdown",
      "metadata": {
        "id": "SjAhZcXRQFi1",
        "colab_type": "text"
      },
      "source": [
        "Calculate the value of $\\sqrt{100}$."
      ]
    },
    {
      "cell_type": "code",
      "metadata": {
        "id": "y5YOZch9QFi2",
        "colab_type": "code",
        "colab": {
          "base_uri": "https://localhost:8080/",
          "height": 34
        },
        "outputId": "ea25bc5c-468e-4f81-dcfe-1c0763d349a0"
      },
      "source": [
        "# TODO\n",
        "import math\n",
        "math.sqrt(100)"
      ],
      "execution_count": 62,
      "outputs": [
        {
          "output_type": "execute_result",
          "data": {
            "text/plain": [
              "10.0"
            ]
          },
          "metadata": {
            "tags": []
          },
          "execution_count": 62
        }
      ]
    },
    {
      "cell_type": "markdown",
      "metadata": {
        "id": "mEoEMlmOQFi5",
        "colab_type": "text"
      },
      "source": [
        "## Submission\n",
        "\n",
        "Download completed **Week2_PythonProgramming_Homework.ipynb** from Google Colab and commit to your personal Github repo you shared with the faculty."
      ]
    }
  ]
}